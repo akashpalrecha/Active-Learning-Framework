{
 "cells": [
  {
   "cell_type": "code",
   "execution_count": 14,
   "metadata": {
    "init_cell": true
   },
   "outputs": [
    {
     "name": "stdout",
     "output_type": "stream",
     "text": [
      "The autoreload extension is already loaded. To reload it, use:\n",
      "  %reload_ext autoreload\n"
     ]
    }
   ],
   "source": [
    "%load_ext autoreload\n",
    "%autoreload 2\n",
    "%matplotlib inline"
   ]
  },
  {
   "cell_type": "code",
   "execution_count": 15,
   "metadata": {
    "init_cell": true
   },
   "outputs": [],
   "source": [
    "import numpy as np\n",
    "import sklearn\n",
    "from sklearn.model_selection import train_test_split\n",
    "from sklearn import datasets\n",
    "import matplotlib.pyplot as plt\n",
    "from sklearn.svm import SVC\n",
    "from sklearn.ensemble import RandomForestClassifier\n",
    "\n",
    "from strategy import *\n",
    "from learner import *"
   ]
  },
  {
   "cell_type": "markdown",
   "metadata": {
    "heading_collapsed": true
   },
   "source": [
    "# Data preprocessing"
   ]
  },
  {
   "cell_type": "markdown",
   "metadata": {
    "heading_collapsed": true,
    "hidden": true
   },
   "source": [
    "### Loading and visualizing"
   ]
  },
  {
   "cell_type": "code",
   "execution_count": 16,
   "metadata": {
    "hidden": true,
    "init_cell": true
   },
   "outputs": [],
   "source": [
    "def print_shapes(*args, **kwargs):\n",
    "    for i in args:\n",
    "        print(i.shape)\n",
    "    for i in kwargs.keys():\n",
    "        print(kwargs[i].shape)\n",
    "\n",
    "def print_all(*args, **kwargs):\n",
    "    for i in args:\n",
    "        print(i)\n",
    "    for i in kwargs.keys():\n",
    "        print(kwargs[i])"
   ]
  },
  {
   "cell_type": "code",
   "execution_count": 17,
   "metadata": {
    "hidden": true,
    "init_cell": true
   },
   "outputs": [],
   "source": [
    "data = datasets.load_digits()"
   ]
  },
  {
   "cell_type": "code",
   "execution_count": 18,
   "metadata": {
    "hidden": true,
    "init_cell": true
   },
   "outputs": [
    {
     "data": {
      "text/plain": [
       "dict_keys(['data', 'target', 'target_names', 'images', 'DESCR'])"
      ]
     },
     "execution_count": 18,
     "metadata": {},
     "output_type": "execute_result"
    }
   ],
   "source": [
    "data.keys()"
   ]
  },
  {
   "cell_type": "code",
   "execution_count": 19,
   "metadata": {
    "hidden": true,
    "init_cell": true
   },
   "outputs": [
    {
     "name": "stdout",
     "output_type": "stream",
     "text": [
      "(1797, 64)\n",
      "(1797,)\n",
      "(10,)\n",
      "(1797, 8, 8)\n"
     ]
    }
   ],
   "source": [
    "print_shapes(data['data'], data['target'], data['target_names'], data['images'])"
   ]
  },
  {
   "cell_type": "code",
   "execution_count": 20,
   "metadata": {
    "hidden": true,
    "init_cell": true
   },
   "outputs": [
    {
     "data": {
      "text/plain": [
       "array([0, 1, 2, 3, 4, 5, 6, 7, 8, 9])"
      ]
     },
     "execution_count": 20,
     "metadata": {},
     "output_type": "execute_result"
    }
   ],
   "source": [
    "data['target_names']"
   ]
  },
  {
   "cell_type": "code",
   "execution_count": 21,
   "metadata": {
    "hidden": true,
    "init_cell": true
   },
   "outputs": [
    {
     "data": {
      "text/plain": [
       "<matplotlib.image.AxesImage at 0x1a1eec2590>"
      ]
     },
     "execution_count": 21,
     "metadata": {},
     "output_type": "execute_result"
    },
    {
     "data": {
      "image/png": "[encoded data removed]",
      "text/plain": [
       "<Figure size 432x288 with 1 Axes>"
      ]
     },
     "metadata": {
      "needs_background": "light"
     },
     "output_type": "display_data"
    }
   ],
   "source": [
    "plt.imshow(data['data'][np.random.randint(0, 1000)].reshape(8,8))"
   ]
  },
  {
   "cell_type": "markdown",
   "metadata": {
    "heading_collapsed": true,
    "hidden": true
   },
   "source": [
    "### Splitting the data|"
   ]
  },
  {
   "cell_type": "code",
   "execution_count": 22,
   "metadata": {
    "hidden": true,
    "init_cell": true
   },
   "outputs": [],
   "source": [
    "X, y = data['data'], data['target']"
   ]
  },
  {
   "cell_type": "code",
   "execution_count": 23,
   "metadata": {
    "hidden": true,
    "init_cell": true
   },
   "outputs": [],
   "source": [
    "x_train, x_val, y_train, y_val = train_test_split(X, y, \n",
    "                                                  test_size=0.1, random_state=42, shuffle=True, stratify=y)"
   ]
  },
  {
   "cell_type": "code",
   "execution_count": 24,
   "metadata": {
    "hidden": true,
    "init_cell": true
   },
   "outputs": [
    {
     "name": "stdout",
     "output_type": "stream",
     "text": [
      "(1617, 64)\n",
      "(180, 64)\n",
      "(1617,)\n",
      "(180,)\n"
     ]
    }
   ],
   "source": [
    "print_shapes(x_train, x_val, y_train, y_val)"
   ]
  },
  {
   "cell_type": "code",
   "execution_count": 25,
   "metadata": {
    "hidden": true,
    "init_cell": true
   },
   "outputs": [],
   "source": [
    "# Now splitting into labelled and unlabelled data for purposes of active learning"
   ]
  },
  {
   "cell_type": "code",
   "execution_count": 26,
   "metadata": {
    "hidden": true,
    "init_cell": true
   },
   "outputs": [],
   "source": [
    "x_labelled, x_unlabelled, y_labelled, y_unlabelled = train_test_split(\n",
    "                                                    x_train, y_train, test_size=0.99, random_state=42, stratify=y_train)\n",
    "\n",
    "x = object()\n",
    "y = object()\n",
    "\n",
    "train = {x: x_labelled, y: y_labelled}\n",
    "stream = {x: x_unlabelled, y: y_unlabelled}"
   ]
  },
  {
   "cell_type": "markdown",
   "metadata": {},
   "source": [
    "# Making the Model"
   ]
  },
  {
   "cell_type": "markdown",
   "metadata": {
    "heading_collapsed": true
   },
   "source": [
    "## Uncertainty sampling"
   ]
  },
  {
   "cell_type": "code",
   "execution_count": 27,
   "metadata": {
    "hidden": true
   },
   "outputs": [],
   "source": [
    "stream_list = [(stream[x][i][None, :], stream[y][i][None]) for i in range(stream[x].shape[0])]\n",
    "\n",
    "model = [RandomForestClassifier()]\n",
    "strategy = uncertainty_sampling\n",
    "stream_iter = iter(stream_list)\n",
    "\n",
    "learner = ActiveLearner(model, strategy='uncertainity', uncertainity_measure='lc')"
   ]
  },
  {
   "cell_type": "code",
   "execution_count": 28,
   "metadata": {
    "hidden": true
   },
   "outputs": [
    {
     "name": "stderr",
     "output_type": "stream",
     "text": [
      "/Users/akash/anaconda3/lib/python3.7/site-packages/sklearn/ensemble/forest.py:246: FutureWarning: The default value of n_estimators will change from 10 in version 0.20 to 100 in 0.22.\n",
      "  \"10 in version 0.20 to 100 in 0.22.\", FutureWarning)\n"
     ]
    }
   ],
   "source": [
    "learner.teach(train[x], train[y])"
   ]
  },
  {
   "cell_type": "code",
   "execution_count": 29,
   "metadata": {
    "hidden": true
   },
   "outputs": [
    {
     "data": {
      "text/plain": [
       "0.3388888888888889"
      ]
     },
     "execution_count": 29,
     "metadata": {},
     "output_type": "execute_result"
    }
   ],
   "source": [
    "learner.score(x_val, y_val)"
   ]
  },
  {
   "cell_type": "code",
   "execution_count": 30,
   "metadata": {
    "hidden": true
   },
   "outputs": [
    {
     "name": "stdout",
     "output_type": "stream",
     "text": [
      "Iteration: 0\t Score: 0.3388888888888889\n",
      "Iteration: 5\t Score: 0.4166666666666667\n",
      "Iteration: 10\t Score: 0.4888888888888889\n",
      "Iteration: 15\t Score: 0.5777777777777777\n",
      "Iteration: 20\t Score: 0.45555555555555555\n",
      "Iteration: 25\t Score: 0.6222222222222222\n",
      "Iteration: 30\t Score: 0.5555555555555556\n",
      "Iteration: 35\t Score: 0.5833333333333334\n",
      "Iteration: 40\t Score: 0.6388888888888888\n",
      "Iteration: 45\t Score: 0.6833333333333333\n",
      "Iteration: 50\t Score: 0.6611111111111111\n",
      "Iteration: 55\t Score: 0.6722222222222223\n",
      "Iteration: 60\t Score: 0.6611111111111111\n",
      "Iteration: 65\t Score: 0.75\n",
      "Iteration: 70\t Score: 0.6666666666666666\n",
      "Iteration: 75\t Score: 0.6944444444444444\n",
      "Iteration: 80\t Score: 0.7666666666666667\n",
      "Iteration: 85\t Score: 0.7555555555555555\n",
      "Iteration: 90\t Score: 0.7555555555555555\n",
      "Iteration: 95\t Score: 0.7722222222222223\n",
      "Iteration: 100\t Score: 0.7055555555555556\n",
      "Iteration: 105\t Score: 0.7444444444444445\n",
      "Iteration: 110\t Score: 0.8\n",
      "Iteration: 115\t Score: 0.7944444444444444\n",
      "Iteration: 120\t Score: 0.7888888888888889\n",
      "Iteration: 125\t Score: 0.7555555555555555\n",
      "Iteration: 130\t Score: 0.8\n",
      "Iteration: 135\t Score: 0.7777777777777778\n",
      "Iteration: 140\t Score: 0.8055555555555556\n",
      "Iteration: 145\t Score: 0.7944444444444444\n",
      "Iteration: 150\t Score: 0.8222222222222222\n",
      "Iteration: 155\t Score: 0.8111111111111111\n",
      "Iteration: 160\t Score: 0.8166666666666667\n",
      "Iteration: 165\t Score: 0.8111111111111111\n",
      "Iteration: 170\t Score: 0.7944444444444444\n",
      "Iteration: 175\t Score: 0.8222222222222222\n",
      "Iteration: 180\t Score: 0.7833333333333333\n",
      "Iteration: 185\t Score: 0.7833333333333333\n",
      "Iteration: 190\t Score: 0.8\n",
      "Iteration: 195\t Score: 0.8055555555555556\n",
      "Iteration: 200\t Score: 0.8333333333333334\n",
      "Iteration: 205\t Score: 0.8111111111111111\n",
      "Iteration: 210\t Score: 0.8722222222222222\n",
      "Iteration: 215\t Score: 0.8777777777777778\n",
      "Iteration: 220\t Score: 0.8444444444444444\n",
      "Iteration: 225\t Score: 0.8166666666666667\n",
      "Iteration: 230\t Score: 0.8277777777777777\n",
      "Iteration: 235\t Score: 0.8722222222222222\n",
      "Iteration: 240\t Score: 0.85\n",
      "Iteration: 245\t Score: 0.8444444444444444\n",
      "Iteration: 250\t Score: 0.8277777777777777\n",
      "Iteration: 255\t Score: 0.8111111111111111\n",
      "Iteration: 260\t Score: 0.8222222222222222\n",
      "Iteration: 265\t Score: 0.85\n",
      "Iteration: 270\t Score: 0.85\n",
      "Iteration: 275\t Score: 0.8666666666666667\n",
      "Iteration: 280\t Score: 0.8777777777777778\n",
      "Iteration: 285\t Score: 0.8277777777777777\n",
      "Iteration: 290\t Score: 0.8444444444444444\n",
      "Iteration: 295\t Score: 0.8444444444444444\n",
      "Iteration: 300\t Score: 0.8611111111111112\n",
      "Iteration: 305\t Score: 0.85\n",
      "Iteration: 310\t Score: 0.8666666666666667\n",
      "Iteration: 315\t Score: 0.8722222222222222\n",
      "Iteration: 320\t Score: 0.8444444444444444\n",
      "Iteration: 325\t Score: 0.85\n",
      "Iteration: 330\t Score: 0.8666666666666667\n",
      "Iteration: 335\t Score: 0.8444444444444444\n",
      "Iteration: 340\t Score: 0.8722222222222222\n",
      "Iteration: 345\t Score: 0.8333333333333334\n",
      "Iteration: 350\t Score: 0.8888888888888888\n",
      "Iteration: 355\t Score: 0.8888888888888888\n",
      "Iteration: 360\t Score: 0.8777777777777778\n",
      "Iteration: 365\t Score: 0.8222222222222222\n",
      "Iteration: 370\t Score: 0.8777777777777778\n",
      "Iteration: 375\t Score: 0.8611111111111112\n",
      "Iteration: 380\t Score: 0.8611111111111112\n",
      "Iteration: 385\t Score: 0.8944444444444445\n",
      "Iteration: 390\t Score: 0.8611111111111112\n",
      "Iteration: 395\t Score: 0.8611111111111112\n",
      "Iteration: 400\t Score: 0.8388888888888889\n",
      "Iteration: 405\t Score: 0.8833333333333333\n",
      "Iteration: 410\t Score: 0.8888888888888888\n",
      "Iteration: 415\t Score: 0.8833333333333333\n",
      "Iteration: 420\t Score: 0.8611111111111112\n",
      "Iteration: 425\t Score: 0.8611111111111112\n",
      "Iteration: 430\t Score: 0.8388888888888889\n",
      "Iteration: 435\t Score: 0.8722222222222222\n",
      "Iteration: 440\t Score: 0.8277777777777777\n",
      "Iteration: 445\t Score: 0.9055555555555556\n",
      "Iteration: 450\t Score: 0.8944444444444445\n",
      "Iteration: 455\t Score: 0.8777777777777778\n",
      "Iteration: 460\t Score: 0.8888888888888888\n",
      "Iteration: 465\t Score: 0.8666666666666667\n",
      "Iteration: 470\t Score: 0.8777777777777778\n",
      "Iteration: 475\t Score: 0.8833333333333333\n",
      "Iteration: 480\t Score: 0.8888888888888888\n",
      "Iteration: 485\t Score: 0.8666666666666667\n",
      "Iteration: 490\t Score: 0.8611111111111112\n",
      "Iteration: 495\t Score: 0.9166666666666666\n",
      "Iteration: 500\t Score: 0.8555555555555555\n",
      "Iteration: 505\t Score: 0.9\n",
      "Iteration: 510\t Score: 0.9055555555555556\n",
      "Iteration: 515\t Score: 0.9111111111111111\n",
      "Iteration: 520\t Score: 0.8611111111111112\n",
      "Iteration: 525\t Score: 0.9333333333333333\n",
      "Iteration: 530\t Score: 0.8888888888888888\n",
      "Iteration: 535\t Score: 0.8833333333333333\n",
      "Iteration: 540\t Score: 0.9\n",
      "Iteration: 545\t Score: 0.9222222222222223\n",
      "Iteration: 550\t Score: 0.9222222222222223\n",
      "Iteration: 555\t Score: 0.9222222222222223\n",
      "Iteration: 560\t Score: 0.8944444444444445\n",
      "Iteration: 565\t Score: 0.9\n",
      "Iteration: 570\t Score: 0.8611111111111112\n",
      "Iteration: 575\t Score: 0.9\n",
      "Iteration: 580\t Score: 0.9111111111111111\n",
      "Iteration: 585\t Score: 0.8944444444444445\n",
      "Iteration: 590\t Score: 0.8888888888888888\n",
      "Iteration: 595\t Score: 0.8888888888888888\n",
      "Iteration: 600\t Score: 0.8777777777777778\n",
      "Iteration: 605\t Score: 0.9277777777777778\n",
      "Iteration: 610\t Score: 0.9166666666666666\n",
      "Iteration: 615\t Score: 0.8777777777777778\n",
      "Iteration: 620\t Score: 0.8777777777777778\n",
      "Iteration: 625\t Score: 0.8944444444444445\n",
      "Iteration: 630\t Score: 0.9111111111111111\n",
      "Iteration: 635\t Score: 0.8833333333333333\n",
      "Iteration: 640\t Score: 0.8833333333333333\n",
      "Iteration: 645\t Score: 0.9\n",
      "Iteration: 650\t Score: 0.9\n",
      "Iteration: 655\t Score: 0.8944444444444445\n",
      "Iteration: 660\t Score: 0.9166666666666666\n",
      "Iteration: 665\t Score: 0.8944444444444445\n",
      "Iteration: 670\t Score: 0.9166666666666666\n",
      "Iteration: 675\t Score: 0.8944444444444445\n",
      "Iteration: 680\t Score: 0.8944444444444445\n",
      "Iteration: 685\t Score: 0.9166666666666666\n",
      "Iteration: 690\t Score: 0.8944444444444445\n",
      "Iteration: 695\t Score: 0.8944444444444445\n",
      "Iteration: 700\t Score: 0.9222222222222223\n",
      "Iteration: 705\t Score: 0.9222222222222223\n",
      "Iteration: 710\t Score: 0.8777777777777778\n",
      "Iteration: 715\t Score: 0.9\n",
      "Iteration: 720\t Score: 0.9\n",
      "Iteration: 725\t Score: 0.9222222222222223\n",
      "Iteration: 730\t Score: 0.9166666666666666\n",
      "Iteration: 735\t Score: 0.9222222222222223\n",
      "Iteration: 740\t Score: 0.9055555555555556\n",
      "Iteration: 745\t Score: 0.9111111111111111\n",
      "Iteration: 750\t Score: 0.8666666666666667\n",
      "Iteration: 755\t Score: 0.9\n",
      "Iteration: 760\t Score: 0.9\n",
      "Iteration: 765\t Score: 0.9\n",
      "Iteration: 770\t Score: 0.9055555555555556\n",
      "Iteration: 775\t Score: 0.9333333333333333\n",
      "Iteration: 780\t Score: 0.8833333333333333\n",
      "Iteration: 785\t Score: 0.8833333333333333\n",
      "Iteration: 790\t Score: 0.9333333333333333\n",
      "FINAL Iteration: 795\t Score: 0.95\t New Samples Taken: 354\n"
     ]
    }
   ],
   "source": [
    "num_iters = 0\n",
    "num_samples_taken = 0\n",
    "score = learner.score(x_val, y_val)\n",
    "while score < 0.95:\n",
    "    print(f\"Iteration: {num_iters}\\t Score: {score}\")\n",
    "    for i in range(5):\n",
    "        num_iters += 1\n",
    "        inp, target = next(stream_iter)\n",
    "        if learner.query(inp):\n",
    "            num_samples_taken += 1\n",
    "            learner.teach(inp, target)\n",
    "    score = learner.score(x_val, y_val)\n",
    "print(f\"FINAL Iteration: {num_iters}\\t Score: {score}\\t New Samples Taken: {num_samples_taken}\")"
   ]
  },
  {
   "cell_type": "markdown",
   "metadata": {},
   "source": [
    "## Query by committee"
   ]
  },
  {
   "cell_type": "markdown",
   "metadata": {
    "heading_collapsed": true
   },
   "source": [
    "#### Experiments"
   ]
  },
  {
   "cell_type": "code",
   "execution_count": 30,
   "metadata": {
    "hidden": true
   },
   "outputs": [],
   "source": [
    "a = np.array([[0.6666, 0.3333, 0.0], [0.0, 0.6666, 0.3333], [0.3333, 0.3333, 0.3333],\n",
    "      [0.0   , 0.0   , 1.0   ],\n",
    "      [0.0   , 0.3333, 0.6666]])"
   ]
  },
  {
   "cell_type": "code",
   "execution_count": 31,
   "metadata": {
    "hidden": true
   },
   "outputs": [
    {
     "data": {
      "text/plain": [
       "array([[0.6666, 0.3333, 0.    ],\n",
       "       [0.    , 0.6666, 0.3333],\n",
       "       [0.3333, 0.3333, 0.3333],\n",
       "       [0.    , 0.    , 1.    ],\n",
       "       [0.    , 0.3333, 0.6666]])"
      ]
     },
     "execution_count": 31,
     "metadata": {},
     "output_type": "execute_result"
    }
   ],
   "source": [
    "a"
   ]
  },
  {
   "cell_type": "code",
   "execution_count": 34,
   "metadata": {
    "hidden": true
   },
   "outputs": [
    {
     "data": {
      "text/plain": [
       "array([0.63651417, 0.63651417, 1.09861229, 0.        , 0.63651417])"
      ]
     },
     "execution_count": 34,
     "metadata": {},
     "output_type": "execute_result"
    }
   ],
   "source": [
    "entropy(a.T)"
   ]
  },
  {
   "cell_type": "code",
   "execution_count": 78,
   "metadata": {
    "hidden": true
   },
   "outputs": [
    {
     "data": {
      "text/plain": [
       "array([0.33333333, 0.66666667, 0.        ])"
      ]
     },
     "execution_count": 78,
     "metadata": {},
     "output_type": "execute_result"
    }
   ],
   "source": [
    "a = np.array([2, 4, 0])\n",
    "a = a / a.sum()\n",
    "a"
   ]
  },
  {
   "cell_type": "code",
   "execution_count": 79,
   "metadata": {
    "hidden": true
   },
   "outputs": [
    {
     "data": {
      "text/plain": [
       "0.6365141682948128"
      ]
     },
     "execution_count": 79,
     "metadata": {},
     "output_type": "execute_result"
    }
   ],
   "source": [
    "entropy(a)"
   ]
  },
  {
   "cell_type": "markdown",
   "metadata": {},
   "source": [
    "### Measure : Vote Entropy"
   ]
  },
  {
   "cell_type": "code",
   "execution_count": 27,
   "metadata": {},
   "outputs": [],
   "source": [
    "models = [RandomForestClassifier(n_estimators=8), \n",
    "         RandomForestClassifier(n_estimators=12), \n",
    "         RandomForestClassifier(n_estimators=16),\n",
    "         RandomForestClassifier(n_estimators=20),\n",
    "         RandomForestClassifier(n_estimators=24)]\n",
    "strategy = \"committee\"\n",
    "committee_measure = \"vote entropy\"\n",
    "\n",
    "learner = ActiveLearner(models, strategy=strategy, committee_measure=committee_measure)"
   ]
  },
  {
   "cell_type": "code",
   "execution_count": 28,
   "metadata": {},
   "outputs": [],
   "source": [
    "learner.teach(train[x], train[y])"
   ]
  },
  {
   "cell_type": "code",
   "execution_count": 89,
   "metadata": {},
   "outputs": [
    {
     "data": {
      "text/plain": [
       "0.48333333333333334"
      ]
     },
     "execution_count": 89,
     "metadata": {},
     "output_type": "execute_result"
    }
   ],
   "source": [
    "learner.score(x_val, y_val)"
   ]
  },
  {
   "cell_type": "code",
   "execution_count": 92,
   "metadata": {},
   "outputs": [
    {
     "name": "stdout",
     "output_type": "stream",
     "text": [
      "Iteration: 0\t Score: 0.48333333333333334\n",
      "Iteration: 5\t Score: 0.5222222222222223\n",
      "Iteration: 10\t Score: 0.5\n",
      "Iteration: 15\t Score: 0.5444444444444444\n",
      "Iteration: 20\t Score: 0.5611111111111111\n",
      "Iteration: 25\t Score: 0.6555555555555556\n",
      "Iteration: 30\t Score: 0.6611111111111111\n",
      "Iteration: 35\t Score: 0.7055555555555556\n",
      "Iteration: 40\t Score: 0.7777777777777778\n",
      "Iteration: 45\t Score: 0.7888888888888889\n",
      "Iteration: 50\t Score: 0.7888888888888889\n",
      "Iteration: 55\t Score: 0.7555555555555555\n",
      "Iteration: 60\t Score: 0.8\n",
      "Iteration: 65\t Score: 0.7833333333333333\n",
      "Iteration: 70\t Score: 0.7833333333333333\n",
      "Iteration: 75\t Score: 0.7888888888888889\n",
      "Iteration: 80\t Score: 0.7888888888888889\n",
      "Iteration: 85\t Score: 0.8111111111111111\n",
      "Iteration: 90\t Score: 0.8111111111111111\n",
      "Iteration: 95\t Score: 0.8388888888888889\n",
      "Iteration: 100\t Score: 0.8222222222222222\n",
      "Iteration: 105\t Score: 0.8222222222222222\n",
      "Iteration: 110\t Score: 0.8222222222222222\n",
      "Iteration: 115\t Score: 0.8222222222222222\n",
      "Iteration: 120\t Score: 0.8555555555555555\n",
      "Iteration: 125\t Score: 0.8555555555555555\n",
      "Iteration: 130\t Score: 0.8555555555555555\n",
      "Iteration: 135\t Score: 0.8611111111111112\n",
      "Iteration: 140\t Score: 0.8555555555555555\n",
      "Iteration: 145\t Score: 0.85\n",
      "Iteration: 150\t Score: 0.8444444444444444\n",
      "Iteration: 155\t Score: 0.8388888888888889\n",
      "Iteration: 160\t Score: 0.8666666666666667\n",
      "Iteration: 165\t Score: 0.8666666666666667\n",
      "Iteration: 170\t Score: 0.8222222222222222\n",
      "Iteration: 175\t Score: 0.8555555555555555\n",
      "Iteration: 180\t Score: 0.8\n",
      "Iteration: 185\t Score: 0.8444444444444444\n",
      "Iteration: 190\t Score: 0.8222222222222222\n",
      "Iteration: 195\t Score: 0.8388888888888889\n",
      "Iteration: 200\t Score: 0.8388888888888889\n",
      "Iteration: 205\t Score: 0.8444444444444444\n",
      "Iteration: 210\t Score: 0.8444444444444444\n",
      "Iteration: 215\t Score: 0.8666666666666667\n",
      "Iteration: 220\t Score: 0.8611111111111112\n",
      "Iteration: 225\t Score: 0.8611111111111112\n",
      "Iteration: 230\t Score: 0.8611111111111112\n",
      "Iteration: 235\t Score: 0.8666666666666667\n",
      "Iteration: 240\t Score: 0.8722222222222222\n",
      "Iteration: 245\t Score: 0.8722222222222222\n",
      "Iteration: 250\t Score: 0.8888888888888888\n",
      "Iteration: 255\t Score: 0.8833333333333333\n",
      "Iteration: 260\t Score: 0.8611111111111112\n",
      "Iteration: 265\t Score: 0.8611111111111112\n",
      "Iteration: 270\t Score: 0.8833333333333333\n",
      "Iteration: 275\t Score: 0.8611111111111112\n",
      "Iteration: 280\t Score: 0.8611111111111112\n",
      "Iteration: 285\t Score: 0.8611111111111112\n",
      "Iteration: 290\t Score: 0.8611111111111112\n",
      "Iteration: 295\t Score: 0.8833333333333333\n",
      "Iteration: 300\t Score: 0.8722222222222222\n",
      "Iteration: 305\t Score: 0.8722222222222222\n",
      "Iteration: 310\t Score: 0.8722222222222222\n",
      "Iteration: 315\t Score: 0.8833333333333333\n",
      "Iteration: 320\t Score: 0.8833333333333333\n",
      "Iteration: 325\t Score: 0.8833333333333333\n",
      "Iteration: 330\t Score: 0.8666666666666667\n",
      "Iteration: 335\t Score: 0.8666666666666667\n",
      "Iteration: 340\t Score: 0.8666666666666667\n",
      "Iteration: 345\t Score: 0.8722222222222222\n",
      "Iteration: 350\t Score: 0.8722222222222222\n",
      "Iteration: 355\t Score: 0.8666666666666667\n",
      "Iteration: 360\t Score: 0.8833333333333333\n",
      "Iteration: 365\t Score: 0.8888888888888888\n",
      "Iteration: 370\t Score: 0.9111111111111111\n",
      "Iteration: 375\t Score: 0.9111111111111111\n",
      "Iteration: 380\t Score: 0.9111111111111111\n",
      "Iteration: 385\t Score: 0.9111111111111111\n",
      "Iteration: 390\t Score: 0.8833333333333333\n",
      "Iteration: 395\t Score: 0.8888888888888888\n",
      "Iteration: 400\t Score: 0.8888888888888888\n",
      "Iteration: 405\t Score: 0.8944444444444445\n",
      "Iteration: 410\t Score: 0.8944444444444445\n",
      "Iteration: 415\t Score: 0.8944444444444445\n",
      "Iteration: 420\t Score: 0.9222222222222223\n",
      "Iteration: 425\t Score: 0.9222222222222223\n",
      "Iteration: 430\t Score: 0.9222222222222223\n",
      "Iteration: 435\t Score: 0.9222222222222223\n",
      "Iteration: 440\t Score: 0.9222222222222223\n",
      "Iteration: 445\t Score: 0.9\n",
      "Iteration: 450\t Score: 0.9166666666666666\n",
      "Iteration: 455\t Score: 0.9055555555555556\n",
      "Iteration: 460\t Score: 0.8833333333333333\n",
      "Iteration: 465\t Score: 0.9444444444444444\n",
      "Iteration: 470\t Score: 0.9444444444444444\n",
      "Iteration: 475\t Score: 0.9166666666666666\n",
      "Iteration: 480\t Score: 0.9166666666666666\n",
      "Iteration: 485\t Score: 0.9111111111111111\n",
      "Iteration: 490\t Score: 0.9\n",
      "Iteration: 495\t Score: 0.9055555555555556\n",
      "Iteration: 500\t Score: 0.9055555555555556\n",
      "Iteration: 505\t Score: 0.9055555555555556\n",
      "Iteration: 510\t Score: 0.9055555555555556\n",
      "Iteration: 515\t Score: 0.9055555555555556\n",
      "Iteration: 520\t Score: 0.9111111111111111\n",
      "Iteration: 525\t Score: 0.8722222222222222\n",
      "Iteration: 530\t Score: 0.8944444444444445\n",
      "Iteration: 535\t Score: 0.8944444444444445\n",
      "Iteration: 540\t Score: 0.8888888888888888\n",
      "Iteration: 545\t Score: 0.9055555555555556\n",
      "Iteration: 550\t Score: 0.9222222222222223\n",
      "Iteration: 555\t Score: 0.9111111111111111\n",
      "Iteration: 560\t Score: 0.9111111111111111\n",
      "Iteration: 565\t Score: 0.9166666666666666\n",
      "Iteration: 570\t Score: 0.9222222222222223\n",
      "Iteration: 575\t Score: 0.9388888888888889\n",
      "Iteration: 580\t Score: 0.9111111111111111\n",
      "Iteration: 585\t Score: 0.9111111111111111\n",
      "Iteration: 590\t Score: 0.9277777777777778\n",
      "Iteration: 595\t Score: 0.9277777777777778\n",
      "Iteration: 600\t Score: 0.9277777777777778\n",
      "Iteration: 605\t Score: 0.9277777777777778\n",
      "Iteration: 610\t Score: 0.9277777777777778\n",
      "Iteration: 615\t Score: 0.9055555555555556\n",
      "Iteration: 620\t Score: 0.9055555555555556\n",
      "Iteration: 625\t Score: 0.9055555555555556\n",
      "Iteration: 630\t Score: 0.9111111111111111\n",
      "Iteration: 635\t Score: 0.9111111111111111\n",
      "Iteration: 640\t Score: 0.9111111111111111\n",
      "Iteration: 645\t Score: 0.9166666666666666\n",
      "Iteration: 650\t Score: 0.9388888888888889\n",
      "Iteration: 655\t Score: 0.9388888888888889\n",
      "Iteration: 660\t Score: 0.9166666666666666\n",
      "Iteration: 665\t Score: 0.9166666666666666\n",
      "Iteration: 670\t Score: 0.9222222222222223\n",
      "Iteration: 675\t Score: 0.9222222222222223\n",
      "Iteration: 680\t Score: 0.9222222222222223\n",
      "Iteration: 685\t Score: 0.9055555555555556\n",
      "Iteration: 690\t Score: 0.9222222222222223\n",
      "Iteration: 695\t Score: 0.9222222222222223\n",
      "Iteration: 700\t Score: 0.9333333333333333\n",
      "Iteration: 705\t Score: 0.9333333333333333\n",
      "Iteration: 710\t Score: 0.9055555555555556\n",
      "Iteration: 715\t Score: 0.9055555555555556\n",
      "Iteration: 720\t Score: 0.9111111111111111\n",
      "Iteration: 725\t Score: 0.9\n",
      "Iteration: 730\t Score: 0.9\n",
      "Iteration: 735\t Score: 0.9444444444444444\n",
      "Iteration: 740\t Score: 0.9444444444444444\n",
      "Iteration: 745\t Score: 0.9333333333333333\n",
      "Iteration: 750\t Score: 0.9333333333333333\n",
      "Iteration: 755\t Score: 0.9333333333333333\n",
      "Iteration: 760\t Score: 0.9444444444444444\n",
      "Iteration: 765\t Score: 0.9444444444444444\n",
      "Iteration: 770\t Score: 0.9444444444444444\n",
      "Iteration: 775\t Score: 0.9444444444444444\n",
      "Iteration: 780\t Score: 0.9444444444444444\n",
      "Iteration: 785\t Score: 0.9444444444444444\n",
      "Iteration: 790\t Score: 0.9333333333333333\n",
      "FINAL Iteration: 795\t Score: 0.9555555555555556\t New Samples Taken: 166\n"
     ]
    }
   ],
   "source": [
    "stream_list = [(stream[x][i][None, :], stream[y][i][None]) for i in range(stream[x].shape[0])]\n",
    "stream_iter = iter(stream_list)\n",
    "\n",
    "num_iters = 0\n",
    "num_samples_taken = 0\n",
    "score = learner.score(x_val, y_val)\n",
    "while score < 0.95 and num_iters < len(stream_list) - 6:\n",
    "    print(f\"Iteration: {num_iters}\\t Score: {score}\")\n",
    "    for i in range(5):\n",
    "        num_iters += 1\n",
    "        inp, target = next(stream_iter)\n",
    "        if learner.query(inp):\n",
    "            num_samples_taken += 1\n",
    "            learner.teach(inp, target)\n",
    "    score = learner.score(x_val, y_val)\n",
    "print(f\"FINAL Iteration: {num_iters}\\t Score: {score}\\t New Samples Taken: {num_samples_taken}\")"
   ]
  },
  {
   "cell_type": "code",
   "execution_count": 93,
   "metadata": {},
   "outputs": [
    {
     "data": {
      "text/plain": [
       "[0.8222222222222222,\n",
       " 0.8722222222222222,\n",
       " 0.9222222222222223,\n",
       " 0.9,\n",
       " 0.9555555555555556]"
      ]
     },
     "execution_count": 93,
     "metadata": {},
     "output_type": "execute_result"
    }
   ],
   "source": [
    "[learner.models[i].score(x_val, y_val) for i in range(len(learner.models))]"
   ]
  },
  {
   "cell_type": "markdown",
   "metadata": {},
   "source": [
    "### Measure : KL-Divergence"
   ]
  },
  {
   "cell_type": "markdown",
   "metadata": {
    "heading_collapsed": true
   },
   "source": [
    "#### Experimentation"
   ]
  },
  {
   "cell_type": "code",
   "execution_count": 105,
   "metadata": {
    "hidden": true
   },
   "outputs": [
    {
     "data": {
      "text/plain": [
       "array([[5., 5., 5.],\n",
       "       [5., 5., 5.]])"
      ]
     },
     "execution_count": 105,
     "metadata": {},
     "output_type": "execute_result"
    }
   ],
   "source": [
    "sum([np.ones((2,3)) for i in range(5)])"
   ]
  },
  {
   "cell_type": "markdown",
   "metadata": {},
   "source": [
    "### Implementation"
   ]
  },
  {
   "cell_type": "code",
   "execution_count": 99,
   "metadata": {},
   "outputs": [],
   "source": [
    "models = [RandomForestClassifier(n_estimators=8), \n",
    "         RandomForestClassifier(n_estimators=12), \n",
    "         RandomForestClassifier(n_estimators=16),\n",
    "         RandomForestClassifier(n_estimators=20),\n",
    "         RandomForestClassifier(n_estimators=24)]\n",
    "strategy = \"committee\"\n",
    "committee_measure = \"kl divergence\"\n",
    "\n",
    "learner = ActiveLearner(models, strategy=strategy, committee_measure=committee_measure)"
   ]
  },
  {
   "cell_type": "code",
   "execution_count": 100,
   "metadata": {},
   "outputs": [],
   "source": [
    "learner.teach(train[x], train[y])"
   ]
  },
  {
   "cell_type": "code",
   "execution_count": 101,
   "metadata": {},
   "outputs": [
    {
     "data": {
      "text/plain": [
       "0.4722222222222222"
      ]
     },
     "execution_count": 101,
     "metadata": {},
     "output_type": "execute_result"
    }
   ],
   "source": [
    "learner.score(x_val, y_val)"
   ]
  },
  {
   "cell_type": "code",
   "execution_count": 102,
   "metadata": {},
   "outputs": [
    {
     "name": "stdout",
     "output_type": "stream",
     "text": [
      "Iteration: 0\t Score: 0.4722222222222222\n",
      "Iteration: 5\t Score: 0.55\n",
      "Iteration: 10\t Score: 0.5444444444444444\n",
      "Iteration: 15\t Score: 0.5777777777777777\n",
      "Iteration: 20\t Score: 0.5833333333333334\n",
      "Iteration: 25\t Score: 0.7222222222222222\n",
      "Iteration: 30\t Score: 0.6611111111111111\n",
      "Iteration: 35\t Score: 0.7722222222222223\n",
      "Iteration: 40\t Score: 0.7611111111111111\n",
      "Iteration: 45\t Score: 0.8111111111111111\n",
      "Iteration: 50\t Score: 0.7611111111111111\n",
      "Iteration: 55\t Score: 0.8222222222222222\n",
      "Iteration: 60\t Score: 0.8555555555555555\n",
      "Iteration: 65\t Score: 0.8388888888888889\n",
      "Iteration: 70\t Score: 0.8222222222222222\n",
      "Iteration: 75\t Score: 0.8555555555555555\n",
      "Iteration: 80\t Score: 0.8333333333333334\n",
      "Iteration: 85\t Score: 0.8611111111111112\n",
      "Iteration: 90\t Score: 0.8611111111111112\n",
      "Iteration: 95\t Score: 0.8944444444444445\n",
      "Iteration: 100\t Score: 0.8944444444444445\n",
      "Iteration: 105\t Score: 0.8722222222222222\n",
      "Iteration: 110\t Score: 0.8666666666666667\n",
      "Iteration: 115\t Score: 0.8722222222222222\n",
      "Iteration: 120\t Score: 0.8611111111111112\n",
      "Iteration: 125\t Score: 0.8944444444444445\n",
      "Iteration: 130\t Score: 0.8555555555555555\n",
      "Iteration: 135\t Score: 0.9222222222222223\n",
      "Iteration: 140\t Score: 0.8888888888888888\n",
      "Iteration: 145\t Score: 0.8944444444444445\n",
      "Iteration: 150\t Score: 0.8666666666666667\n",
      "Iteration: 155\t Score: 0.8777777777777778\n",
      "Iteration: 160\t Score: 0.8944444444444445\n",
      "Iteration: 165\t Score: 0.9055555555555556\n",
      "Iteration: 170\t Score: 0.8888888888888888\n",
      "Iteration: 175\t Score: 0.9166666666666666\n",
      "Iteration: 180\t Score: 0.8944444444444445\n",
      "Iteration: 185\t Score: 0.9111111111111111\n",
      "Iteration: 190\t Score: 0.9055555555555556\n",
      "Iteration: 195\t Score: 0.9055555555555556\n",
      "Iteration: 200\t Score: 0.9\n",
      "Iteration: 205\t Score: 0.9\n",
      "Iteration: 210\t Score: 0.8833333333333333\n",
      "Iteration: 215\t Score: 0.9166666666666666\n",
      "Iteration: 220\t Score: 0.9222222222222223\n",
      "Iteration: 225\t Score: 0.9166666666666666\n",
      "Iteration: 230\t Score: 0.9111111111111111\n",
      "Iteration: 235\t Score: 0.9222222222222223\n",
      "Iteration: 240\t Score: 0.9222222222222223\n",
      "Iteration: 245\t Score: 0.9277777777777778\n",
      "Iteration: 250\t Score: 0.9\n",
      "Iteration: 255\t Score: 0.9222222222222223\n",
      "Iteration: 260\t Score: 0.9333333333333333\n",
      "Iteration: 265\t Score: 0.9166666666666666\n",
      "Iteration: 270\t Score: 0.9111111111111111\n",
      "Iteration: 275\t Score: 0.9166666666666666\n",
      "Iteration: 280\t Score: 0.9222222222222223\n",
      "Iteration: 285\t Score: 0.9111111111111111\n",
      "Iteration: 290\t Score: 0.9111111111111111\n",
      "Iteration: 295\t Score: 0.9222222222222223\n",
      "Iteration: 300\t Score: 0.9277777777777778\n",
      "Iteration: 305\t Score: 0.9333333333333333\n",
      "Iteration: 310\t Score: 0.9277777777777778\n",
      "Iteration: 315\t Score: 0.9277777777777778\n",
      "Iteration: 320\t Score: 0.9166666666666666\n",
      "Iteration: 325\t Score: 0.9277777777777778\n",
      "Iteration: 330\t Score: 0.9222222222222223\n",
      "Iteration: 335\t Score: 0.9166666666666666\n",
      "Iteration: 340\t Score: 0.9222222222222223\n",
      "Iteration: 345\t Score: 0.9277777777777778\n",
      "Iteration: 350\t Score: 0.9277777777777778\n",
      "Iteration: 355\t Score: 0.9333333333333333\n",
      "Iteration: 360\t Score: 0.9222222222222223\n",
      "Iteration: 365\t Score: 0.9055555555555556\n",
      "Iteration: 370\t Score: 0.9333333333333333\n",
      "Iteration: 375\t Score: 0.9388888888888889\n",
      "Iteration: 380\t Score: 0.9222222222222223\n",
      "FINAL Iteration: 385\t Score: 0.95\t New Samples Taken: 385\n"
     ]
    }
   ],
   "source": [
    "stream_list = [(stream[x][i][None, :], stream[y][i][None]) for i in range(stream[x].shape[0])]\n",
    "stream_iter = iter(stream_list)\n",
    "\n",
    "num_iters = 0\n",
    "num_samples_taken = 0\n",
    "score = learner.score(x_val, y_val)\n",
    "while score < 0.95 and num_iters < len(stream_list) - 6:\n",
    "    print(f\"Iteration: {num_iters}\\t Score: {score}\")\n",
    "    for i in range(5):\n",
    "        num_iters += 1\n",
    "        inp, target = next(stream_iter)\n",
    "        if learner.query(inp):\n",
    "            num_samples_taken += 1\n",
    "            learner.teach(inp, target)\n",
    "    score = learner.score(x_val, y_val)\n",
    "print(f\"FINAL Iteration: {num_iters}\\t Score: {score}\\t New Samples Taken: {num_samples_taken}\")"
   ]
  },
  {
   "cell_type": "code",
   "execution_count": 103,
   "metadata": {},
   "outputs": [
    {
     "data": {
      "text/plain": [
       "[0.8722222222222222,\n",
       " 0.8833333333333333,\n",
       " 0.9055555555555556,\n",
       " 0.8888888888888888,\n",
       " 0.95]"
      ]
     },
     "execution_count": 103,
     "metadata": {},
     "output_type": "execute_result"
    }
   ],
   "source": [
    "[learner.models[i].score(x_val, y_val) for i in range(len(learner.models))]"
   ]
  },
  {
   "cell_type": "code",
   "execution_count": null,
   "metadata": {},
   "outputs": [],
   "source": []
  }
 ],
 "metadata": {
  "celltoolbar": "Initialization Cell",
  "kernelspec": {
   "display_name": "Python 3",
   "language": "python",
   "name": "python3"
  },
  "language_info": {
   "codemirror_mode": {
    "name": "ipython",
    "version": 3
   },
   "file_extension": ".py",
   "mimetype": "text/x-python",
   "name": "python",
   "nbconvert_exporter": "python",
   "pygments_lexer": "ipython3",
   "version": "3.7.4"
  },
  "toc": {
   "base_numbering": 1,
   "nav_menu": {},
   "number_sections": true,
   "sideBar": true,
   "skip_h1_title": false,
   "title_cell": "Table of Contents",
   "title_sidebar": "Contents",
   "toc_cell": false,
   "toc_position": {},
   "toc_section_display": true,
   "toc_window_display": false
  },
  "varInspector": {
   "cols": {
    "lenName": 16,
    "lenType": 16,
    "lenVar": 40
   },
   "kernels_config": {
    "python": {
     "delete_cmd_postfix": "",
     "delete_cmd_prefix": "del ",
     "library": "var_list.py",
     "varRefreshCmd": "print(var_dic_list())"
    },
    "r": {
     "delete_cmd_postfix": ") ",
     "delete_cmd_prefix": "rm(",
     "library": "var_list.r",
     "varRefreshCmd": "cat(var_dic_list()) "
    }
   },
   "position": {
    "height": "537px",
    "left": "1193px",
    "right": "20px",
    "top": "120px",
    "width": "227px"
   },
   "types_to_exclude": [
    "module",
    "function",
    "builtin_function_or_method",
    "instance",
    "_Feature"
   ],
   "window_display": false
  }
 },
 "nbformat": 4,
 "nbformat_minor": 2
}
