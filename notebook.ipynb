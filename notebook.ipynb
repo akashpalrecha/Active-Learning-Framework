{
 "cells": [
  {
   "cell_type": "code",
   "execution_count": 1,
   "metadata": {},
   "outputs": [],
   "source": [
    "import numpy as np\n",
    "from learner import *\n",
    "from oracle import *"
   ]
  },
  {
   "cell_type": "code",
   "execution_count": 2,
   "metadata": {},
   "outputs": [],
   "source": [
    "from sklearn import datasets\n",
    "\n",
    "iris = datasets.load_iris()\n",
    "X = iris.data[:, :2]  # we only take the first two features.\n",
    "y = iris.target"
   ]
  },
  {
   "cell_type": "code",
   "execution_count": 3,
   "metadata": {},
   "outputs": [
    {
     "name": "stdout",
     "output_type": "stream",
     "text": [
      "(120, 2)\n",
      "(120,)\n",
      "(30, 2)\n",
      "(30,)\n"
     ]
    }
   ],
   "source": [
    "labelled_X = X[0:10] \n",
    "labelled_X = np.concatenate((labelled_X, X[50:60]))\n",
    "labelled_X = np.concatenate((labelled_X, X[100:110]))\n",
    "\n",
    "labelled_y = y[0:10]\n",
    "labelled_y = np.concatenate((labelled_y, y[50:60]))\n",
    "labelled_y = np.concatenate((labelled_y, y[100:110]))\n",
    "\n",
    "unlabelled_X = X[10:50] \n",
    "unlabelled_X = np.concatenate((unlabelled_X, X[60:100]))\n",
    "unlabelled_X = np.concatenate((unlabelled_X, X[110:150]))\n",
    "\n",
    "unlabelled_y = y[10:50]\n",
    "unlabelled_y = np.concatenate((unlabelled_y, y[60:100]))\n",
    "unlabelled_y = np.concatenate((unlabelled_y, y[110:150]))\n",
    "\n",
    "print(unlabelled_X.shape)\n",
    "print(unlabelled_y.shape)\n",
    "print(labelled_X.shape)\n",
    "print(labelled_y.shape)"
   ]
  },
  {
   "cell_type": "code",
   "execution_count": 4,
   "metadata": {},
   "outputs": [],
   "source": [
    "from sklearn import svm\n",
    "models = [svm.SVC(gamma='scale', probability = True), svm.SVC(gamma='auto', probability = True)]"
   ]
  },
  {
   "cell_type": "code",
   "execution_count": 5,
   "metadata": {},
   "outputs": [
    {
     "name": "stderr",
     "output_type": "stream",
     "text": [
      "D:\\Acads4-1\\ML\\Assignment2\\learner.py:24: UserWarning: Multiple models are not required in case of uncertainity sampling, only 1st model will be used\n",
      "  warnings.warn(\"Multiple models are not required in case of uncertainity sampling, only 1st model will be used\")\n"
     ]
    }
   ],
   "source": [
    "learner = ActiveLearner(models, \"uncertainity\", uncertainity_measure = \"h\")\n",
    "oracle = MyOracle(unlabelled_X, unlabelled_y)"
   ]
  },
  {
   "cell_type": "code",
   "execution_count": 6,
   "metadata": {},
   "outputs": [],
   "source": [
    "learner.teach(labelled_X, labelled_y)"
   ]
  },
  {
   "cell_type": "code",
   "execution_count": 7,
   "metadata": {},
   "outputs": [
    {
     "data": {
      "text/plain": [
       "0.78"
      ]
     },
     "execution_count": 7,
     "metadata": {},
     "output_type": "execute_result"
    }
   ],
   "source": [
    "learner.score(X, y)"
   ]
  },
  {
   "cell_type": "code",
   "execution_count": 8,
   "metadata": {
    "scrolled": false
   },
   "outputs": [
    {
     "data": {
      "text/plain": [
       "array([31, 64,  4,  8, 78], dtype=int64)"
      ]
     },
     "execution_count": 8,
     "metadata": {},
     "output_type": "execute_result"
    }
   ],
   "source": [
    "q_idxs = learner.query(unlabelled_X)\n",
    "q_idxs"
   ]
  },
  {
   "cell_type": "code",
   "execution_count": 9,
   "metadata": {},
   "outputs": [
    {
     "data": {
      "text/plain": [
       "array([0, 1, 0, 0, 1])"
      ]
     },
     "execution_count": 9,
     "metadata": {},
     "output_type": "execute_result"
    }
   ],
   "source": [
    "oracle.get_label(q_idxs)"
   ]
  },
  {
   "cell_type": "code",
   "execution_count": 10,
   "metadata": {
    "scrolled": true
   },
   "outputs": [],
   "source": [
    "learner.teach(X[q_idxs], oracle.get_label(q_idxs))"
   ]
  },
  {
   "cell_type": "code",
   "execution_count": 11,
   "metadata": {},
   "outputs": [
    {
     "data": {
      "text/plain": [
       "0.7733333333333333"
      ]
     },
     "execution_count": 11,
     "metadata": {},
     "output_type": "execute_result"
    }
   ],
   "source": [
    "learner.score(X, y)"
   ]
  },
  {
   "cell_type": "code",
   "execution_count": null,
   "metadata": {},
   "outputs": [],
   "source": []
  }
 ],
 "metadata": {
  "kernelspec": {
   "display_name": "Python 3",
   "language": "python",
   "name": "python3"
  },
  "language_info": {
   "codemirror_mode": {
    "name": "ipython",
    "version": 3
   },
   "file_extension": ".py",
   "mimetype": "text/x-python",
   "name": "python",
   "nbconvert_exporter": "python",
   "pygments_lexer": "ipython3",
   "version": "3.7.1"
  }
 },
 "nbformat": 4,
 "nbformat_minor": 2
}
